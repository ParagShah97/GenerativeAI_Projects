{
 "cells": [
  {
   "cell_type": "markdown",
   "id": "bcc2b7aa",
   "metadata": {},
   "source": [
    "#### Built a basic chatbot using Langgraph (Graph API)"
   ]
  },
  {
   "cell_type": "code",
   "execution_count": 1,
   "id": "d42c0e5e",
   "metadata": {},
   "outputs": [],
   "source": [
    "from typing import Annotated\n",
    "from typing_extensions import TypedDict\n",
    "\n",
    "\n",
    "from langgraph.graph import StateGraph, START, END\n",
    "from langgraph.graph.message import add_messages    # Reducer to append the previous communication back to State."
   ]
  },
  {
   "cell_type": "code",
   "execution_count": 2,
   "id": "d883325c",
   "metadata": {},
   "outputs": [],
   "source": [
    "class State(TypedDict):\n",
    "    # Messages have the type \"list\". The `add_messages` function\n",
    "    # in the annotation defines how this state key should be updated\n",
    "    # (in this case, it appends messages to the list, rather than overwriting them)\n",
    "    message: Annotated[list, add_messages]"
   ]
  },
  {
   "cell_type": "markdown",
   "id": "bf718bbf",
   "metadata": {},
   "source": [
    "#### Initiate the LLM model"
   ]
  },
  {
   "cell_type": "code",
   "execution_count": 3,
   "id": "ad4a5e6f",
   "metadata": {},
   "outputs": [
    {
     "data": {
      "text/plain": [
       "True"
      ]
     },
     "execution_count": 3,
     "metadata": {},
     "output_type": "execute_result"
    }
   ],
   "source": [
    "import os\n",
    "from dotenv import load_dotenv\n",
    "load_dotenv()"
   ]
  },
  {
   "cell_type": "code",
   "execution_count": 4,
   "id": "7e0e9931",
   "metadata": {},
   "outputs": [],
   "source": [
    "openai_api_key = os.getenv(\"OPENAI_API_KEY\")\n"
   ]
  },
  {
   "cell_type": "code",
   "execution_count": 5,
   "id": "364bdf50",
   "metadata": {},
   "outputs": [],
   "source": [
    "from langchain_openai import ChatOpenAI\n",
    "\n",
    "llm = ChatOpenAI(\n",
    "    model=\"gpt-4o-mini\",\n",
    "    api_key=openai_api_key,\n",
    "    temperature=0.2,\n",
    "    streaming=True,\n",
    ")"
   ]
  },
  {
   "cell_type": "code",
   "execution_count": 6,
   "id": "40e74079",
   "metadata": {},
   "outputs": [
    {
     "data": {
      "text/plain": [
       "ChatOpenAI(client=<openai.resources.chat.completions.completions.Completions object at 0x000002605136F3B0>, async_client=<openai.resources.chat.completions.completions.AsyncCompletions object at 0x00000260517EEFF0>, root_client=<openai.OpenAI object at 0x000002604F8CB4D0>, root_async_client=<openai.AsyncOpenAI object at 0x00000260512F22A0>, model_name='gpt-4o-mini', temperature=0.2, model_kwargs={}, openai_api_key=SecretStr('**********'), streaming=True)"
      ]
     },
     "execution_count": 6,
     "metadata": {},
     "output_type": "execute_result"
    }
   ],
   "source": [
    "llm"
   ]
  },
  {
   "cell_type": "code",
   "execution_count": 7,
   "id": "910c5bd5",
   "metadata": {},
   "outputs": [],
   "source": [
    "# Node Functionality\n",
    "def chatbot(state: State):\n",
    "    return {\"message\": [llm.invoke(state[\"message\"])]}"
   ]
  },
  {
   "cell_type": "markdown",
   "id": "d8ee1958",
   "metadata": {},
   "source": [
    "#### Here build the graph"
   ]
  },
  {
   "cell_type": "code",
   "execution_count": 8,
   "id": "f5fc0a29",
   "metadata": {},
   "outputs": [],
   "source": [
    "graph_builder = StateGraph(State)\n",
    "# Add the functional node\n",
    "graph_builder.add_node(\"llmchatbot\", chatbot)\n",
    "# Add the edges\n",
    "graph_builder.add_edge(START, \"llmchatbot\")\n",
    "graph_builder.add_edge(\"llmchatbot\", END)\n",
    "\n",
    "# Compile the graph\n",
    "graph = graph_builder.compile()\n"
   ]
  },
  {
   "cell_type": "code",
   "execution_count": 9,
   "id": "a2d21c2f",
   "metadata": {},
   "outputs": [
    {
     "data": {
      "image/png": "[encoded data removed]",
      "text/plain": [
       "<IPython.core.display.Image object>"
      ]
     },
     "metadata": {},
     "output_type": "display_data"
    }
   ],
   "source": [
    "from IPython.display import Image,display\n",
    "\n",
    "try:\n",
    "    display(Image(graph.get_graph().draw_mermaid_png()))\n",
    "except Exception as e:\n",
    "    print(e) "
   ]
  },
  {
   "cell_type": "code",
   "execution_count": 10,
   "id": "e5882eb0",
   "metadata": {},
   "outputs": [],
   "source": [
    "response = graph.invoke({\"message\": \"Hi\"})"
   ]
  },
  {
   "cell_type": "code",
   "execution_count": 11,
   "id": "36b8918d",
   "metadata": {},
   "outputs": [
    {
     "data": {
      "text/plain": [
       "'Hello! How can I assist you today?'"
      ]
     },
     "execution_count": 11,
     "metadata": {},
     "output_type": "execute_result"
    }
   ],
   "source": [
    "response['message'][-1].content"
   ]
  }
 ],
 "metadata": {
  "kernelspec": {
   "display_name": "chatbot-langgraph",
   "language": "python",
   "name": "python3"
  },
  "language_info": {
   "codemirror_mode": {
    "name": "ipython",
    "version": 3
   },
   "file_extension": ".py",
   "mimetype": "text/x-python",
   "name": "python",
   "nbconvert_exporter": "python",
   "pygments_lexer": "ipython3",
   "version": "3.12.3"
  }
 },
 "nbformat": 4,
 "nbformat_minor": 5
}
