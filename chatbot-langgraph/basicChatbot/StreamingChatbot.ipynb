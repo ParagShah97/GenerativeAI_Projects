{
 "cells": [
  {
   "cell_type": "markdown",
   "id": "166d9133",
   "metadata": {},
   "source": [
    "### Streaming"
   ]
  },
  {
   "cell_type": "code",
   "execution_count": null,
   "id": "ccd05b37",
   "metadata": {},
   "outputs": [],
   "source": [
    "from langgraph.checkpoint.memory import MemorySaver\n",
    "from typing import Annotated\n",
    "from typing_extensions import TypedDict\n",
    "from langgraph.graph import StateGraph, START, END\n",
    "from langgraph.graph.message import add_messages    # Reducer to append the previous communication back to State.\n",
    "# from langgraph.prebuilt import ToolNode\n",
    "# from langgraph.prebuilt import tools_condition"
   ]
  },
  {
   "cell_type": "code",
   "execution_count": 5,
   "id": "664c520c",
   "metadata": {},
   "outputs": [],
   "source": [
    "import os\n",
    "from dotenv import load_dotenv\n",
    "load_dotenv()\n",
    "openai_api_key = os.getenv(\"OPENAI_API_KEY\")"
   ]
  },
  {
   "cell_type": "code",
   "execution_count": 6,
   "id": "385af5c1",
   "metadata": {},
   "outputs": [],
   "source": [
    "from langchain_openai import ChatOpenAI\n",
    "\n",
    "llm = ChatOpenAI(\n",
    "    model=\"gpt-4o-mini\",\n",
    "    api_key=openai_api_key,\n",
    "    temperature=0.2,\n",
    "    streaming=True,\n",
    ")"
   ]
  },
  {
   "cell_type": "code",
   "execution_count": 4,
   "id": "af75a8c0",
   "metadata": {},
   "outputs": [],
   "source": [
    "class State(TypedDict):\n",
    "    messages: Annotated[list, add_messages]"
   ]
  },
  {
   "cell_type": "code",
   "execution_count": 3,
   "id": "3e4368ac",
   "metadata": {},
   "outputs": [],
   "source": [
    "memory = MemorySaver()"
   ]
  },
  {
   "cell_type": "code",
   "execution_count": 7,
   "id": "b5636e3a",
   "metadata": {},
   "outputs": [],
   "source": [
    "def superChatBot(state:State) -> State:\n",
    "    return {\"messages\": [llm.invoke(state[\"messages\"])]}"
   ]
  },
  {
   "cell_type": "code",
   "execution_count": 9,
   "id": "6115c222",
   "metadata": {},
   "outputs": [
    {
     "name": "stdout",
     "output_type": "stream",
     "text": [
      "Failed to reach https://mermaid.ink/ API while trying to render your graph. Status code: 502.\n",
      "\n",
      "To resolve this issue:\n",
      "1. Check your internet connection and try again\n",
      "2. Try with higher retry settings: `draw_mermaid_png(..., max_retries=5, retry_delay=2.0)`\n",
      "3. Use the Pyppeteer rendering method which will render your graph locally in a browser: `draw_mermaid_png(..., draw_method=MermaidDrawMethod.PYPPETEER)`\n"
     ]
    }
   ],
   "source": [
    "# Create graph\n",
    "builder = StateGraph(State)\n",
    "builder.add_node(\"superbot\", superChatBot)\n",
    "\n",
    "builder.add_edge(START, \"superbot\")\n",
    "builder.add_edge(\"superbot\", END)\n",
    "\n",
    "graph = builder.compile(checkpointer=memory)\n",
    "\n",
    "from IPython.display import Image,display\n",
    "\n",
    "try:\n",
    "    display(Image(graph.get_graph().draw_mermaid_png()))\n",
    "except Exception as e:\n",
    "    print(e) "
   ]
  },
  {
   "cell_type": "code",
   "execution_count": null,
   "id": "12af22b1",
   "metadata": {},
   "outputs": [],
   "source": [
    "# Invocation and thread creation\n",
    "\n",
    "config = {\"configurable\": {\"thread_id\": \"1\"}}\n",
    "graph.invoke({\"messages\": \"Hello my name is Parag Shah, I like AI\"}, config=config)"
   ]
  },
  {
   "cell_type": "markdown",
   "id": "d360923c",
   "metadata": {},
   "source": [
    "### Streaming\n",
    "Methods: .stream() and astream()\n",
    "\n",
    "These methods are sync and async methods for streaming back results.\n",
    "Additional parameters in streaming modes for graph state\n",
    "\n",
    "values : This streams the full state of the graph after each node is called.\n",
    "updates : This streams updates to the state of the graph after each node is called.\n",
    "\n",
    "There are 2 modes\n",
    "\n",
    "#### mode = updates & values\n",
    "\n",
    "Updates: will print the node / current level messages each time.\n",
    "\n",
    "Values: will print current and previous (previous msg get appended) level messages every time in the next cycle."
   ]
  },
  {
   "cell_type": "code",
   "execution_count": 10,
   "id": "f5949ac0",
   "metadata": {},
   "outputs": [
    {
     "name": "stdout",
     "output_type": "stream",
     "text": [
      "{'superbot': {'messages': [AIMessage(content=\"Hello Parag! It's great to meet you. AI is a fascinating field with so many applications and possibilities. What aspects of AI are you most interested in?\", additional_kwargs={}, response_metadata={'finish_reason': 'stop', 'model_name': 'gpt-4o-mini-2024-07-18', 'system_fingerprint': 'fp_51db84afab', 'service_tier': 'default'}, id='run--f5f25cbe-25d6-4bd9-9912-688bc2ea26c4-0')]}}\n"
     ]
    }
   ],
   "source": [
    "# Create a new thread\n",
    "config = {\"configurable\": {\"thread_id\": \"2\"}}\n",
    "for chunk in graph.stream({\"messages\": \"Hello my name is Parag Shah, I like AI\"}, config=config,stream_mode=\"updates\"):\n",
    "    print(chunk)"
   ]
  },
  {
   "cell_type": "code",
   "execution_count": 11,
   "id": "6c24f41e",
   "metadata": {},
   "outputs": [
    {
     "name": "stdout",
     "output_type": "stream",
     "text": [
      "{'messages': [HumanMessage(content='Hello my name is Parag Shah, I like AI', additional_kwargs={}, response_metadata={}, id='236964eb-db9e-4200-a5fb-fbf3ab7147e4'), AIMessage(content=\"Hello Parag! It's great to meet you. AI is a fascinating field with so many applications and possibilities. What aspects of AI are you most interested in?\", additional_kwargs={}, response_metadata={'finish_reason': 'stop', 'model_name': 'gpt-4o-mini-2024-07-18', 'system_fingerprint': 'fp_51db84afab', 'service_tier': 'default'}, id='run--f5f25cbe-25d6-4bd9-9912-688bc2ea26c4-0'), HumanMessage(content='Hello my name is Parag Shah, I like AI', additional_kwargs={}, response_metadata={}, id='2bd1259a-58d1-408a-84ef-0cf42e1d36f3')]}\n",
      "{'messages': [HumanMessage(content='Hello my name is Parag Shah, I like AI', additional_kwargs={}, response_metadata={}, id='236964eb-db9e-4200-a5fb-fbf3ab7147e4'), AIMessage(content=\"Hello Parag! It's great to meet you. AI is a fascinating field with so many applications and possibilities. What aspects of AI are you most interested in?\", additional_kwargs={}, response_metadata={'finish_reason': 'stop', 'model_name': 'gpt-4o-mini-2024-07-18', 'system_fingerprint': 'fp_51db84afab', 'service_tier': 'default'}, id='run--f5f25cbe-25d6-4bd9-9912-688bc2ea26c4-0'), HumanMessage(content='Hello my name is Parag Shah, I like AI', additional_kwargs={}, response_metadata={}, id='2bd1259a-58d1-408a-84ef-0cf42e1d36f3'), AIMessage(content=\"Hello again, Parag! It's nice to see you. If you have any specific questions about AI or topics you'd like to discuss, feel free to share!\", additional_kwargs={}, response_metadata={'finish_reason': 'stop', 'model_name': 'gpt-4o-mini-2024-07-18', 'system_fingerprint': 'fp_560af6e559', 'service_tier': 'default'}, id='run--b288f79c-8222-4a86-9fb1-d0085b17ed11-0')]}\n"
     ]
    }
   ],
   "source": [
    "for chunk in graph.stream({\"messages\": \"Hello my name is Parag Shah, I like AI\"}, config=config,stream_mode=\"values\"):\n",
    "    print(chunk)"
   ]
  },
  {
   "cell_type": "code",
   "execution_count": null,
   "id": "2def0994",
   "metadata": {},
   "outputs": [],
   "source": []
  }
 ],
 "metadata": {
  "kernelspec": {
   "display_name": "chatbot-langgraph",
   "language": "python",
   "name": "python3"
  },
  "language_info": {
   "codemirror_mode": {
    "name": "ipython",
    "version": 3
   },
   "file_extension": ".py",
   "mimetype": "text/x-python",
   "name": "python",
   "nbconvert_exporter": "python",
   "pygments_lexer": "ipython3",
   "version": "3.12.3"
  }
 },
 "nbformat": 4,
 "nbformat_minor": 5
}
